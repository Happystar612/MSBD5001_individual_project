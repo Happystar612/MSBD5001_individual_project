{
 "cells": [
  {
   "cell_type": "code",
   "execution_count": 19,
   "metadata": {
    "scrolled": true
   },
   "outputs": [],
   "source": [
    "import numpy as np\n",
    "import pandas as pd\n",
    "from sklearn.preprocessing import LabelEncoder\n",
    "from imblearn.over_sampling import SMOTE\n",
    "from sklearn.model_selection import train_test_split\n",
    "from sklearn.preprocessing import StandardScaler\n",
    "from sklearn.model_selection import GridSearchCV, StratifiedKFold,KFold\n",
    "import lightgbm as lgbm\n",
    "\n",
    "import matplotlib.pyplot as plt"
   ]
  },
  {
   "cell_type": "code",
   "execution_count": 20,
   "metadata": {},
   "outputs": [
    {
     "name": "stdout",
     "output_type": "stream",
     "text": [
      "(87, 13)\n"
     ]
    }
   ],
   "source": [
    "train_data = pd.read_csv('./msbd5001-spring-2022/train.csv')\n",
    "train_data=train_data.fillna(train_data.median())\n",
    "print(train_data.shape)"
   ]
  },
  {
   "cell_type": "code",
   "execution_count": 21,
   "metadata": {},
   "outputs": [
    {
     "name": "stdout",
     "output_type": "stream",
     "text": [
      "(59, 12)\n"
     ]
    }
   ],
   "source": [
    "test_data = pd.read_csv('./msbd5001-spring-2022/test.csv')\n",
    "test_data=test_data.fillna(test_data.median())\n",
    "print(test_data.shape)"
   ]
  },
  {
   "cell_type": "code",
   "execution_count": 22,
   "metadata": {
    "scrolled": true
   },
   "outputs": [
    {
     "name": "stdout",
     "output_type": "stream",
     "text": [
      "Shape of x: (87, 12)\n",
      "Shape of y: (87,)\n"
     ]
    }
   ],
   "source": [
    "X=np.array(train_data.iloc[:,:-1])\n",
    "Y=np.array(train_data.loc[:,\"label\"])\n",
    "print(\"Shape of x:\", X.shape)\n",
    "print(\"Shape of y:\", Y.shape)"
   ]
  },
  {
   "cell_type": "code",
   "execution_count": 23,
   "metadata": {},
   "outputs": [],
   "source": [
    "# splitting the dataset into train and validation\n",
    "\n",
    "x_train, x_val, y_train, y_val = train_test_split(X, Y, test_size = 0.2, random_state = 2022)"
   ]
  },
  {
   "cell_type": "code",
   "execution_count": 24,
   "metadata": {},
   "outputs": [
    {
     "name": "stdout",
     "output_type": "stream",
     "text": [
      "Shape of x_train:  (69, 12)\n",
      "Shape of x_val:  (18, 12)\n",
      "Shape of y_train:  (69,)\n",
      "Shape of y_val:  (18,)\n"
     ]
    }
   ],
   "source": [
    "# checking the new shapes\n",
    "print(\"Shape of x_train: \", x_train.shape)\n",
    "print(\"Shape of x_val: \", x_val.shape)\n",
    "print(\"Shape of y_train: \", y_train.shape)\n",
    "print(\"Shape of y_val: \", y_val.shape)"
   ]
  },
  {
   "cell_type": "code",
   "execution_count": 25,
   "metadata": {},
   "outputs": [],
   "source": [
    "# Data preprocessing for model validation Part\n",
    "# performing standard scaling on the data for better fit\n",
    "sc = StandardScaler()\n",
    "\n",
    "x_train = sc.fit_transform(x_train)\n",
    "x_val = sc.transform(x_val)"
   ]
  },
  {
   "cell_type": "code",
   "execution_count": 26,
   "metadata": {},
   "outputs": [],
   "source": [
    "# Data preprocessing for Get best_model Part\n",
    "## Label imbalance\n",
    "x_train_all, y_train_all = X, Y\n",
    "\n",
    "## Label balance--SMOTE\n",
    "#x_train_all, y_train_all = rus.fit_resample(x_train_all, y_train_all)\n",
    "\n",
    "# performing standard scaling on the data for better fit\n",
    "sc = StandardScaler()\n",
    "\n",
    "x_train_all = sc.fit_transform(x_train_all)"
   ]
  },
  {
   "cell_type": "code",
   "execution_count": 27,
   "metadata": {},
   "outputs": [],
   "source": [
    "# Data preprocessing for Test Part\n",
    "# performing standard scaling on the data for better fit\n",
    "sc = StandardScaler()\n",
    "\n",
    "x_test_new = sc.fit_transform(test_data)"
   ]
  },
  {
   "cell_type": "markdown",
   "metadata": {},
   "source": [
    "## RandomForest"
   ]
  },
  {
   "cell_type": "code",
   "execution_count": 46,
   "metadata": {},
   "outputs": [
    {
     "name": "stdout",
     "output_type": "stream",
     "text": [
      "Best: -0.302136 using {'max_depth': 16, 'n_estimators': 50}\n",
      "-0.321740 with: {'max_depth': 2, 'n_estimators': 50}\n",
      "-0.323479 with: {'max_depth': 2, 'n_estimators': 100}\n",
      "-0.314852 with: {'max_depth': 2, 'n_estimators': 500}\n",
      "-0.306848 with: {'max_depth': 4, 'n_estimators': 50}\n",
      "-0.329360 with: {'max_depth': 4, 'n_estimators': 100}\n",
      "-0.318659 with: {'max_depth': 4, 'n_estimators': 500}\n",
      "-0.731443 with: {'max_depth': 8, 'n_estimators': 50}\n",
      "-0.745963 with: {'max_depth': 8, 'n_estimators': 100}\n",
      "-0.317785 with: {'max_depth': 8, 'n_estimators': 500}\n",
      "-0.302136 with: {'max_depth': 16, 'n_estimators': 50}\n",
      "-0.306723 with: {'max_depth': 16, 'n_estimators': 100}\n",
      "-0.311620 with: {'max_depth': 16, 'n_estimators': 500}\n"
     ]
    }
   ],
   "source": [
    "import lightgbm as lgbm\n",
    "from sklearn.ensemble import RandomForestClassifier\n",
    "from xgboost import XGBClassifier\n",
    "clf = RandomForestClassifier(\n",
    "            n_estimators=100,\n",
    "            max_depth=8,\n",
    "        )\n",
    "\n",
    "n_estimators = [50, 100, 500]\n",
    "max_depth=[2,4,8,16]\n",
    "param_grid = dict(n_estimators=n_estimators, max_depth=max_depth)\n",
    "kflod = StratifiedKFold(n_splits=5, shuffle=True,random_state=0)\n",
    "grid_search = GridSearchCV(clf,param_grid,scoring='neg_log_loss',n_jobs=-1,cv=kflod)\n",
    "grid_result = grid_search.fit(x_train, y_train)\n",
    "print(\"Best: %f using %s\" % (grid_result.best_score_,grid_search.best_params_))\n",
    "means = grid_result.cv_results_['mean_test_score']\n",
    "params = grid_result.cv_results_['params']\n",
    "for mean,param in zip(means,params):\n",
    "    print(\"%f with: %r\" % (mean, param))"
   ]
  },
  {
   "cell_type": "code",
   "execution_count": 47,
   "metadata": {},
   "outputs": [
    {
     "data": {
      "text/plain": [
       "RandomForestClassifier(max_depth=16, n_estimators=50)"
      ]
     },
     "execution_count": 47,
     "metadata": {},
     "output_type": "execute_result"
    }
   ],
   "source": [
    "clf = RandomForestClassifier(\n",
    "            n_estimators=grid_search.best_params_['n_estimators'],\n",
    "            max_depth=grid_search.best_params_['max_depth'],\n",
    "        )\n",
    "clf.fit(x_train, y_train)"
   ]
  },
  {
   "cell_type": "code",
   "execution_count": 48,
   "metadata": {},
   "outputs": [],
   "source": [
    "pred = clf.predict(x_val)"
   ]
  },
  {
   "cell_type": "code",
   "execution_count": 49,
   "metadata": {},
   "outputs": [
    {
     "name": "stdout",
     "output_type": "stream",
     "text": [
      "The Area Under the ROC Curve is 0.7857142857142857\n",
      "The accuracy is 0.8333333333333334\n"
     ]
    }
   ],
   "source": [
    "from sklearn.metrics import roc_auc_score,accuracy_score\n",
    "\n",
    "# score of the model\n",
    "auc_result = roc_auc_score(y_val, pred)\n",
    "print(\"The Area Under the ROC Curve is\", auc_result)\n",
    "# score of the model\n",
    "acc_result = accuracy_score(y_val, pred)\n",
    "print(\"The accuracy is\", acc_result)"
   ]
  },
  {
   "cell_type": "code",
   "execution_count": 50,
   "metadata": {
    "scrolled": true
   },
   "outputs": [
    {
     "name": "stderr",
     "output_type": "stream",
     "text": [
      "/Users/joyhe/anaconda3_2020_07/lib/python3.8/site-packages/sklearn/utils/deprecation.py:87: FutureWarning: Function plot_confusion_matrix is deprecated; Function `plot_confusion_matrix` is deprecated in 1.0 and will be removed in 1.2. Use one of the class methods: ConfusionMatrixDisplay.from_predictions or ConfusionMatrixDisplay.from_estimator.\n",
      "  warnings.warn(msg, category=FutureWarning)\n"
     ]
    },
    {
     "data": {
      "text/plain": [
       "<sklearn.metrics._plot.confusion_matrix.ConfusionMatrixDisplay at 0x7fcb33c562e0>"
      ]
     },
     "execution_count": 50,
     "metadata": {},
     "output_type": "execute_result"
    },
    {
     "data": {
      "image/png": "[encoded data removed]",
      "text/plain": [
       "<Figure size 432x288 with 2 Axes>"
      ]
     },
     "metadata": {
      "needs_background": "light"
     },
     "output_type": "display_data"
    }
   ],
   "source": [
    "from sklearn.metrics import plot_confusion_matrix\n",
    "plot_confusion_matrix(clf, x_val, y_val)"
   ]
  },
  {
   "cell_type": "markdown",
   "metadata": {},
   "source": [
    "### Get RF_best_model.pickle"
   ]
  },
  {
   "cell_type": "code",
   "execution_count": 51,
   "metadata": {},
   "outputs": [
    {
     "data": {
      "text/plain": [
       "RandomForestClassifier(max_depth=16, n_estimators=50)"
      ]
     },
     "execution_count": 51,
     "metadata": {},
     "output_type": "execute_result"
    }
   ],
   "source": [
    "model_all = RandomForestClassifier(\n",
    "            n_estimators=grid_search.best_params_['n_estimators'],\n",
    "            max_depth=grid_search.best_params_['max_depth'],\n",
    "        )\n",
    "\n",
    "model_all.fit(x_train_all, y_train_all)"
   ]
  },
  {
   "cell_type": "code",
   "execution_count": 52,
   "metadata": {},
   "outputs": [],
   "source": [
    "import pickle \n",
    "\n",
    "with open('RF_best_model.pickle', 'wb') as f:\n",
    "    pickle.dump(model_all, f)"
   ]
  },
  {
   "cell_type": "markdown",
   "metadata": {},
   "source": [
    "### Test"
   ]
  },
  {
   "cell_type": "code",
   "execution_count": 53,
   "metadata": {},
   "outputs": [],
   "source": [
    "import pickle \n",
    "\n",
    "with open('RF_best_model.pickle', 'rb') as f:\n",
    "    model_test = pickle.load(f)\n",
    "    y_pred_new = model_test.predict(x_test_new)"
   ]
  },
  {
   "cell_type": "code",
   "execution_count": 54,
   "metadata": {},
   "outputs": [],
   "source": [
    "# Output submission results\n",
    "df_submission = pd.read_csv('./msbd5001-spring-2022/sample_submission.csv')\n",
    "df_submission['label'] = [int(round(x)) for x in y_pred_new]\n",
    "df_submission[\"id\"]=[int(x) for x in df_submission[\"id\"]]\n",
    "df_submission.to_csv('submission.csv', index=None)"
   ]
  },
  {
   "cell_type": "code",
   "execution_count": null,
   "metadata": {},
   "outputs": [],
   "source": []
  }
 ],
 "metadata": {
  "kernelspec": {
   "display_name": "Python 3",
   "language": "python",
   "name": "python3"
  },
  "language_info": {
   "codemirror_mode": {
    "name": "ipython",
    "version": 3
   },
   "file_extension": ".py",
   "mimetype": "text/x-python",
   "name": "python",
   "nbconvert_exporter": "python",
   "pygments_lexer": "ipython3",
   "version": "3.8.3"
  }
 },
 "nbformat": 4,
 "nbformat_minor": 5
}
